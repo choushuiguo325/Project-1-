{
 "cells": [
  {
   "cell_type": "code",
   "execution_count": 135,
   "metadata": {},
   "outputs": [],
   "source": [
    "#import dependencies\n",
    "import matplotlib.pyplot as plot\n",
    "import pandas as pd\n",
    "import numpy as np"
   ]
  },
  {
   "cell_type": "markdown",
   "metadata": {},
   "source": [
    "### Data Cleaning Process ###\n",
    "\n",
    "* Create a list and a function that will allow us to save time\n",
    "* Read csv files and append related tables to one another\n",
    "* Rename column for easier reading \n",
    "* Add date columns that will be usefull when its time to plot"
   ]
  },
  {
   "cell_type": "code",
   "execution_count": 136,
   "metadata": {},
   "outputs": [],
   "source": [
    "# import datetime\n",
    "#create a list of our pollutants to use as identifiers within our function\n",
    "pollutants = [\"CO\",\"NO2\",\"PM2.5\"]\n",
    "#create a function to append dataframes based on the pollutant and year\n",
    "#will allow us to assign independent variables to each dataframe\n",
    "def pull(p):\n",
    "    #read into each csv based on the pollutant and assign it a dataframe name\n",
    "    df_2018 = pd.read_csv(f\"resources/{p}_2018.csv\")\n",
    "    df_2019 = pd.read_csv(f\"resources/{p}_2019.csv\")\n",
    "    df_2020 = pd.read_csv(f\"resources/{p}_2020.csv\")\n",
    "    #append the 3 separate pollutant dataframes into one\n",
    "    df = df_2018.append([df_2019,df_2020])\n",
    "    #rename the name of the pollutant column\n",
    "    df = df.rename(columns={\"AQS_PARAMETER_DESC\":\"POLLUTANT\"})\n",
    "    #make the abbreviation the name of our pollutant\n",
    "    df[\"ABBREVIATION\"] = p\n",
    "    #format our date columns\n",
    "    df[\"Date\"] = pd.to_datetime(df[\"Date\"])\n",
    "    df[\"MONTH\"] = df[\"Date\"].dt.month\n",
    "    df[\"DAY\"] = df[\"Date\"].dt.day\n",
    "    df[\"YEAR\"] = df[\"Date\"].dt.year\n",
    "    #select the columns we want\n",
    "    #the time period measurement of each pollutant varies, so must use df.iloc to select the column number instead of the column name\n",
    "    df = df.iloc[:,np.r_[0,4:8,9,11,18:24]]\n",
    "    #select the rows that we want to match the time period of traffic and that of air quality together, drop rows from 2018 Jan to 2018 Feb\n",
    "    df = df.drop(df[(df[\"YEAR\"]==2018)&((df[\"MONTH\"]==1)|(df[\"MONTH\"]==2))].index)\n",
    "    df = df.drop(df[(df[\"YEAR\"]==2020)&((df[\"MONTH\"]==7)|(df[\"MONTH\"]==6)|(df[\"MONTH\"]==5))].index)\n",
    "    return df"
   ]
  },
  {
   "cell_type": "code",
   "execution_count": 137,
   "metadata": {},
   "outputs": [
    {
     "data": {
      "text/plain": [
       "NORTHBROOK WATER PLANT    746\n",
       "Kingery Near Road #1      287\n",
       "Name: Site Name, dtype: int64"
      ]
     },
     "execution_count": 137,
     "metadata": {},
     "output_type": "execute_result"
    }
   ],
   "source": [
    "CO_df=pull(pollutants[0])\n",
    "NO2_df=pull(pollutants[1])\n",
    "PM25_df=pull(pollutants[2])\n",
    "\n",
    "CO_df[\"Site Name\"].value_counts()"
   ]
  },
  {
   "cell_type": "code",
   "execution_count": 138,
   "metadata": {},
   "outputs": [
    {
     "name": "stdout",
     "output_type": "stream",
     "text": [
      "Stored 'co_monthly_mean' (Series)\n"
     ]
    },
    {
     "data": {
      "text/plain": [
       "YEAR  MONTH\n",
       "2018  3        0.400000\n",
       "      4        0.392000\n",
       "      5        0.276190\n",
       "      6        0.233333\n",
       "      7        0.223333\n",
       "      8        0.275862\n",
       "      9        0.240000\n",
       "      10       0.292857\n",
       "      11       0.330000\n",
       "      12       0.383871\n",
       "2019  1        0.389286\n",
       "      2        0.391667\n",
       "      3        0.436842\n",
       "      4        0.314286\n",
       "      5        0.405085\n",
       "      6        0.495455\n",
       "      7        0.327119\n",
       "      8        0.385714\n",
       "      9        0.428333\n",
       "      10       0.408197\n",
       "      11       0.387931\n",
       "      12       0.450820\n",
       "2020  1        0.300000\n",
       "      2        0.289655\n",
       "      3        0.342857\n",
       "      4        0.360377\n",
       "Name: Daily Max 8-hour CO Concentration, dtype: float64"
      ]
     },
     "execution_count": 138,
     "metadata": {},
     "output_type": "execute_result"
    }
   ],
   "source": [
    "#select only monitor checks that were 100% complete for the day to avoid having incomplete data\n",
    "co_clean_df=CO_df.loc[CO_df[\"PERCENT_COMPLETE\"] == 100.0,:]\n",
    "\n",
    "#create a groupby function by the year and the month to get monthly data\n",
    "co_time_group=co_clean_df.groupby([\"YEAR\",\"MONTH\"])\n",
    "co_monthly_mean=co_time_group['Daily Max 8-hour CO Concentration'].mean()  \n",
    "\n",
    "%store co_monthly_mean\n",
    "co_monthly_mean"
   ]
  },
  {
   "cell_type": "code",
   "execution_count": 139,
   "metadata": {},
   "outputs": [
    {
     "name": "stdout",
     "output_type": "stream",
     "text": [
      "Stored 'no2_monthly_mean' (Series)\n"
     ]
    },
    {
     "data": {
      "text/plain": [
       "YEAR  MONTH\n",
       "2018  3        39.743590\n",
       "      4        36.120000\n",
       "      5        35.161667\n",
       "      6        28.512500\n",
       "      7        24.842857\n",
       "      8        27.680645\n",
       "      9        21.553968\n",
       "      10       24.396429\n",
       "      11       26.740984\n",
       "      12       29.084722\n",
       "2019  1        28.884091\n",
       "      2        34.285714\n",
       "      3        36.583516\n",
       "      4        28.428409\n",
       "      5        28.869608\n",
       "      6        26.000000\n",
       "      7        23.303093\n",
       "      8        25.581905\n",
       "      9        26.985714\n",
       "      10       27.645556\n",
       "      11       27.948276\n",
       "      12       28.292553\n",
       "2020  1        26.614607\n",
       "      2        27.657333\n",
       "      3        27.815455\n",
       "      4        28.422963\n",
       "Name: Daily Max 1-hour NO2 Concentration, dtype: float64"
      ]
     },
     "execution_count": 139,
     "metadata": {},
     "output_type": "execute_result"
    }
   ],
   "source": [
    "#select only monitor checks that were 100% complete for the day to avoid having incomplete data\n",
    "no2_clean_df=NO2_df.loc[NO2_df[\"PERCENT_COMPLETE\"] == 100.0,:]\n",
    "\n",
    "#create a groupby function by the year and the month to get monthly data\n",
    "no2_time_group=no2_clean_df.groupby([\"YEAR\",\"MONTH\"])\n",
    "no2_monthly_mean=no2_time_group['Daily Max 1-hour NO2 Concentration'].mean()  \n",
    "\n",
    "%store no2_monthly_mean\n",
    "no2_monthly_mean"
   ]
  },
  {
   "cell_type": "code",
   "execution_count": 140,
   "metadata": {},
   "outputs": [
    {
     "name": "stdout",
     "output_type": "stream",
     "text": [
      "Stored 'PM25_df_monthly_mean' (Series)\n"
     ]
    },
    {
     "data": {
      "text/plain": [
       "YEAR  MONTH\n",
       "2018  3         6.925714\n",
       "      4         7.283796\n",
       "      5         9.566822\n",
       "      6         9.753782\n",
       "      7         9.961847\n",
       "      8        12.963801\n",
       "      9         8.344103\n",
       "      10        7.094737\n",
       "      11        8.965193\n",
       "      12       12.877108\n",
       "2019  1         9.737500\n",
       "      2        11.463842\n",
       "      3         9.851765\n",
       "      4         8.265294\n",
       "      5         7.904348\n",
       "      6         9.875417\n",
       "      7        12.308879\n",
       "      8         8.679904\n",
       "      9        10.257647\n",
       "      10        7.451813\n",
       "      11       10.718182\n",
       "      12       12.882967\n",
       "2020  1         9.970115\n",
       "      2         8.084932\n",
       "      3         8.295082\n",
       "      4         8.343655\n",
       "Name: Daily Mean PM2.5 Concentration, dtype: float64"
      ]
     },
     "execution_count": 140,
     "metadata": {},
     "output_type": "execute_result"
    }
   ],
   "source": [
    "#select only monitor checks that were 100% complete for the day to avoid having incomplete data\n",
    "PM25_df_clean_df=PM25_df.loc[PM25_df[\"PERCENT_COMPLETE\"] == 100.0,:]\n",
    "\n",
    "#create a groupby function by the year and the month to get monthly data\n",
    "PM25_df_time_group=PM25_df_clean_df.groupby([\"YEAR\",\"MONTH\"])\n",
    "PM25_df_monthly_mean=PM25_df_time_group['Daily Mean PM2.5 Concentration'].mean()  \n",
    "\n",
    "%store PM25_df_monthly_mean\n",
    "PM25_df_monthly_mean"
   ]
  }
 ],
 "metadata": {
  "kernelspec": {
   "display_name": "Python 3",
   "language": "python",
   "name": "python3"
  },
  "language_info": {
   "codemirror_mode": {
    "name": "ipython",
    "version": 3
   },
   "file_extension": ".py",
   "mimetype": "text/x-python",
   "name": "python",
   "nbconvert_exporter": "python",
   "pygments_lexer": "ipython3",
   "version": "3.7.6"
  }
 },
 "nbformat": 4,
 "nbformat_minor": 4
}
